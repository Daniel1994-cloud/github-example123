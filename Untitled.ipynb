== This Project will be used for the capstone project


+*In[1]:*+
[source, ipython3]
----
import pandas as pd
----


+*In[2]:*+
[source, ipython3]
----
import numpy as np
----


+*In[3]:*+
[source, ipython3]
----
print ("Hello Capstone Project Course!")
----


+*Out[3]:*+
----
Hello Capstone Project Course!
----


+*In[ ]:*+
[source, ipython3]
----

----
